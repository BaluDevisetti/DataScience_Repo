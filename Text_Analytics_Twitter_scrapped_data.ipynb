{
 "cells": [
  {
   "cell_type": "code",
   "execution_count": 2,
   "metadata": {},
   "outputs": [
    {
     "name": "stdout",
     "output_type": "stream",
     "text": [
      "Collecting tweepy\n",
      "  Downloading tweepy-3.10.0-py2.py3-none-any.whl (30 kB)\n",
      "Requirement already satisfied: requests[socks]>=2.11.1 in c:\\users\\home pc\\anaconda3\\lib\\site-packages (from tweepy) (2.24.0)\n",
      "Requirement already satisfied: six>=1.10.0 in c:\\users\\home pc\\anaconda3\\lib\\site-packages (from tweepy) (1.15.0)\n",
      "Collecting requests-oauthlib>=0.7.0\n",
      "  Downloading requests_oauthlib-1.3.0-py2.py3-none-any.whl (23 kB)\n",
      "Requirement already satisfied: idna<3,>=2.5 in c:\\users\\home pc\\anaconda3\\lib\\site-packages (from requests[socks]>=2.11.1->tweepy) (2.10)\n",
      "Requirement already satisfied: chardet<4,>=3.0.2 in c:\\users\\home pc\\anaconda3\\lib\\site-packages (from requests[socks]>=2.11.1->tweepy) (3.0.4)\n",
      "Requirement already satisfied: certifi>=2017.4.17 in c:\\users\\home pc\\anaconda3\\lib\\site-packages (from requests[socks]>=2.11.1->tweepy) (2020.6.20)\n",
      "Requirement already satisfied: urllib3!=1.25.0,!=1.25.1,<1.26,>=1.21.1 in c:\\users\\home pc\\anaconda3\\lib\\site-packages (from requests[socks]>=2.11.1->tweepy) (1.25.11)\n",
      "Requirement already satisfied: PySocks!=1.5.7,>=1.5.6; extra == \"socks\" in c:\\users\\home pc\\anaconda3\\lib\\site-packages (from requests[socks]>=2.11.1->tweepy) (1.7.1)\n",
      "Collecting oauthlib>=3.0.0\n",
      "  Downloading oauthlib-3.1.0-py2.py3-none-any.whl (147 kB)\n",
      "Installing collected packages: oauthlib, requests-oauthlib, tweepy\n",
      "Successfully installed oauthlib-3.1.0 requests-oauthlib-1.3.0 tweepy-3.10.0\n"
     ]
    }
   ],
   "source": [
    "!pip install tweepy"
   ]
  },
  {
   "cell_type": "code",
   "execution_count": 4,
   "metadata": {},
   "outputs": [],
   "source": [
    "#General:\n",
    "import tweepy       #To consume twitter's API\n",
    "import numpy as np  #TO HANDLE DATA\n",
    "import pandas as pd #To number computing\n",
    "\n",
    "#for plotting and visualization\n",
    "from IPython.display import display\n",
    "import seaborn as sns\n",
    "import matplotlib.pyplot as plt\n",
    "%matplotlib inline\n"
   ]
  },
  {
   "cell_type": "code",
   "execution_count": 6,
   "metadata": {},
   "outputs": [],
   "source": []
  },
  {
   "cell_type": "code",
   "execution_count": 5,
   "metadata": {},
   "outputs": [],
   "source": [
    "#Twitter app access keys for @user\n",
    "#consume\n",
    "CONSUMER_KEY = '6RLG1auHLTr6WJaqwiv05hLcp'\n",
    "CONSUMER_SECRET = 'nTGvhaWSTd3IwMZxcR8YEmRwg8rQXmRkWOQ5aIHNgTZpeEE1aR'\n",
    "\n",
    "#Access\n",
    "ACCESS_TOKEN = '1515145326-8dzMJPTDUBrqS48iUl2zqf8s7ffvIhzrbQLrTQo'\n",
    "ACCESS_SECRET = 'WOJkvJBG3KrALkd8tllrZoGccnSwx7wj7PfAyYHV21bDk'"
   ]
  },
  {
   "cell_type": "code",
   "execution_count": 6,
   "metadata": {},
   "outputs": [],
   "source": [
    "#API setup\n",
    "def twitter_setup():\n",
    "    \"\"\"\n",
    "    utility function to setup Twitter's API\n",
    "    with our Access key's provided\n",
    "    \"\"\"\n",
    "    #Authentication and access using keys\n",
    "    auth = tweepy.OAuthHandler(CONSUMER_KEY,CONSUMER_SECRET)\n",
    "    auth.set_access_token(ACCESS_TOKEN,ACCESS_SECRET)\n",
    "    #Return API with Authentication\n",
    "    api = tweepy.API(auth)\n",
    "    return api"
   ]
  },
  {
   "cell_type": "code",
   "execution_count": 7,
   "metadata": {},
   "outputs": [
    {
     "name": "stdout",
     "output_type": "stream",
     "text": [
      "Number of tweets extracted: 200.\n",
      "\n",
      "5 Recent Tweets:\n",
      "\n",
      "अपनी समृद्ध संस्कृति और वैभवशाली विरासत के लिए विख्यात राजस्थान के सभी भाइयों और बहनों को राजस्थान दिवस की बहुत-बहुत शुभकामनाएं।\n",
      "\n",
      "The new edition of #ExamWarriors has been enriched with valuable inputs from students, parents and teachers. \n",
      "\n",
      "Subs… https://t.co/Xi8r1WUFUv\n",
      "\n",
      "How to make exam preparation fun?\n",
      "\n",
      "Is there anything interesting we can do sitting at home while preparing?\n",
      "\n",
      "There… https://t.co/lq4VX8I2EF\n",
      "\n",
      "As the exam season begins, I am delighted to share that the updated edition of #ExamWarriors is now available. \n",
      "\n",
      "Th… https://t.co/QqgHkjKbG1\n",
      "\n",
      "आप सभी को होली की ढेर सारी शुभकामनाएं। आनंद, उमंग, हर्ष और उल्लास का यह त्योहार हर किसी के जीवन में नए जोश और नई ऊर्जा का संचार करे।\n",
      "\n"
     ]
    }
   ],
   "source": [
    "#we create an Extractor object\n",
    "\n",
    "extractor = twitter_setup()\n",
    "\n",
    "#we create a tweet list as follows\n",
    "tweets = extractor.user_timeline(screen_name = \"@narendramodi\", count = 200)\n",
    "print(\"Number of tweets extracted: {}.\\n\".format(len(tweets)))\n",
    "\n",
    "#we print the most recent 5 tweets:\n",
    "print(\"5 Recent Tweets:\\n\")\n",
    "for tweet in tweets[:5]:\n",
    "    print(tweet.text)\n",
    "    print()"
   ]
  },
  {
   "cell_type": "code",
   "execution_count": 9,
   "metadata": {},
   "outputs": [
    {
     "data": {
      "text/html": [
       "<div>\n",
       "<style scoped>\n",
       "    .dataframe tbody tr th:only-of-type {\n",
       "        vertical-align: middle;\n",
       "    }\n",
       "\n",
       "    .dataframe tbody tr th {\n",
       "        vertical-align: top;\n",
       "    }\n",
       "\n",
       "    .dataframe thead th {\n",
       "        text-align: right;\n",
       "    }\n",
       "</style>\n",
       "<table border=\"1\" class=\"dataframe\">\n",
       "  <thead>\n",
       "    <tr style=\"text-align: right;\">\n",
       "      <th></th>\n",
       "      <th>Tweets</th>\n",
       "    </tr>\n",
       "  </thead>\n",
       "  <tbody>\n",
       "    <tr>\n",
       "      <th>0</th>\n",
       "      <td>अपनी समृद्ध संस्कृति और वैभवशाली विरासत के लिए...</td>\n",
       "    </tr>\n",
       "    <tr>\n",
       "      <th>1</th>\n",
       "      <td>The new edition of #ExamWarriors has been enri...</td>\n",
       "    </tr>\n",
       "    <tr>\n",
       "      <th>2</th>\n",
       "      <td>How to make exam preparation fun?\\n\\nIs there ...</td>\n",
       "    </tr>\n",
       "    <tr>\n",
       "      <th>3</th>\n",
       "      <td>As the exam season begins, I am delighted to s...</td>\n",
       "    </tr>\n",
       "    <tr>\n",
       "      <th>4</th>\n",
       "      <td>आप सभी को होली की ढेर सारी शुभकामनाएं। आनंद, उ...</td>\n",
       "    </tr>\n",
       "    <tr>\n",
       "      <th>5</th>\n",
       "      <td>Life is all about innovation and learning new ...</td>\n",
       "    </tr>\n",
       "    <tr>\n",
       "      <th>6</th>\n",
       "      <td>The sporting successes of our Nari Shakti make...</td>\n",
       "    </tr>\n",
       "    <tr>\n",
       "      <th>7</th>\n",
       "      <td>During today’s #MannKiBaat programme, a very i...</td>\n",
       "    </tr>\n",
       "    <tr>\n",
       "      <th>8</th>\n",
       "      <td>The largest vaccination drive in the world is ...</td>\n",
       "    </tr>\n",
       "    <tr>\n",
       "      <th>9</th>\n",
       "      <td>India’s Amrut Mahotsav inspires each of us to ...</td>\n",
       "    </tr>\n",
       "  </tbody>\n",
       "</table>\n",
       "</div>"
      ],
      "text/plain": [
       "                                              Tweets\n",
       "0  अपनी समृद्ध संस्कृति और वैभवशाली विरासत के लिए...\n",
       "1  The new edition of #ExamWarriors has been enri...\n",
       "2  How to make exam preparation fun?\\n\\nIs there ...\n",
       "3  As the exam season begins, I am delighted to s...\n",
       "4  आप सभी को होली की ढेर सारी शुभकामनाएं। आनंद, उ...\n",
       "5  Life is all about innovation and learning new ...\n",
       "6  The sporting successes of our Nari Shakti make...\n",
       "7  During today’s #MannKiBaat programme, a very i...\n",
       "8  The largest vaccination drive in the world is ...\n",
       "9  India’s Amrut Mahotsav inspires each of us to ..."
      ]
     },
     "metadata": {},
     "output_type": "display_data"
    }
   ],
   "source": [
    "#we create a pandas dataframe as follows:\n",
    "\n",
    "data = pd.DataFrame(data=[tweet.text for tweet in tweets], columns=['Tweets'])\n",
    "\n",
    "#we dispplay the first 10 elements of the dataframe\n",
    "display(data.head(10))"
   ]
  },
  {
   "cell_type": "code",
   "execution_count": 10,
   "metadata": {},
   "outputs": [
    {
     "name": "stdout",
     "output_type": "stream",
     "text": [
      "['__class__', '__delattr__', '__dict__', '__dir__', '__doc__', '__eq__', '__format__', '__ge__', '__getattribute__', '__getstate__', '__gt__', '__hash__', '__init__', '__init_subclass__', '__le__', '__lt__', '__module__', '__ne__', '__new__', '__reduce__', '__reduce_ex__', '__repr__', '__setattr__', '__sizeof__', '__str__', '__subclasshook__', '__weakref__', '_api', '_json', 'author', 'contributors', 'coordinates', 'created_at', 'destroy', 'entities', 'favorite', 'favorite_count', 'favorited', 'geo', 'id', 'id_str', 'in_reply_to_screen_name', 'in_reply_to_status_id', 'in_reply_to_status_id_str', 'in_reply_to_user_id', 'in_reply_to_user_id_str', 'is_quote_status', 'lang', 'parse', 'parse_list', 'place', 'retweet', 'retweet_count', 'retweeted', 'retweets', 'source', 'source_url', 'text', 'truncated', 'user']\n"
     ]
    }
   ],
   "source": [
    "#internal methods of a single twwet object\n",
    "print(dir(tweets[0]))"
   ]
  },
  {
   "cell_type": "code",
   "execution_count": 11,
   "metadata": {},
   "outputs": [
    {
     "name": "stdout",
     "output_type": "stream",
     "text": [
      "1376716165897129984\n",
      "2021-03-30 02:01:26\n",
      "Twitter for iPhone\n",
      "37459\n",
      "4881\n",
      "None\n",
      "None\n",
      "{'hashtags': [], 'symbols': [], 'user_mentions': [], 'urls': []}\n"
     ]
    }
   ],
   "source": [
    "#we print info from the first tweet\n",
    "\n",
    "print(tweets[0].id)\n",
    "print(tweets[0].created_at)\n",
    "print(tweets[0].source)\n",
    "print(tweets[0].favorite_count)\n",
    "print(tweets[0].retweet_count)\n",
    "print(tweets[0].geo)\n",
    "print(tweets[0].coordinates)\n",
    "print(tweets[0].entities)\n"
   ]
  },
  {
   "cell_type": "code",
   "execution_count": 12,
   "metadata": {},
   "outputs": [],
   "source": [
    "#we add relevant data\n",
    "\n",
    "data['len'] = np.array([len(tweet.text) for tweet in tweets])\n",
    "data['ID'] = np.array([tweet.id for tweet in tweets])\n",
    "data['Date'] = np.array([tweet.created_at for tweet in tweets])\n",
    "data['Source'] = np.array([tweet.source for tweet in tweets])\n",
    "data['Likes'] = np.array([tweet.favorite_count for tweet in tweets])\n",
    "data['RTs'] = np.array([tweet.retweet_count for tweet in tweets])\n"
   ]
  },
  {
   "cell_type": "code",
   "execution_count": 13,
   "metadata": {},
   "outputs": [
    {
     "data": {
      "text/html": [
       "<div>\n",
       "<style scoped>\n",
       "    .dataframe tbody tr th:only-of-type {\n",
       "        vertical-align: middle;\n",
       "    }\n",
       "\n",
       "    .dataframe tbody tr th {\n",
       "        vertical-align: top;\n",
       "    }\n",
       "\n",
       "    .dataframe thead th {\n",
       "        text-align: right;\n",
       "    }\n",
       "</style>\n",
       "<table border=\"1\" class=\"dataframe\">\n",
       "  <thead>\n",
       "    <tr style=\"text-align: right;\">\n",
       "      <th></th>\n",
       "      <th>Tweets</th>\n",
       "      <th>len</th>\n",
       "      <th>ID</th>\n",
       "      <th>Date</th>\n",
       "      <th>Source</th>\n",
       "      <th>Likes</th>\n",
       "      <th>RTs</th>\n",
       "    </tr>\n",
       "  </thead>\n",
       "  <tbody>\n",
       "    <tr>\n",
       "      <th>0</th>\n",
       "      <td>अपनी समृद्ध संस्कृति और वैभवशाली विरासत के लिए...</td>\n",
       "      <td>128</td>\n",
       "      <td>1376716165897129984</td>\n",
       "      <td>2021-03-30 02:01:26</td>\n",
       "      <td>Twitter for iPhone</td>\n",
       "      <td>37459</td>\n",
       "      <td>4881</td>\n",
       "    </tr>\n",
       "    <tr>\n",
       "      <th>1</th>\n",
       "      <td>The new edition of #ExamWarriors has been enri...</td>\n",
       "      <td>140</td>\n",
       "      <td>1376490524643786754</td>\n",
       "      <td>2021-03-29 11:04:49</td>\n",
       "      <td>Twitter Web App</td>\n",
       "      <td>17138</td>\n",
       "      <td>3310</td>\n",
       "    </tr>\n",
       "    <tr>\n",
       "      <th>2</th>\n",
       "      <td>How to make exam preparation fun?\\n\\nIs there ...</td>\n",
       "      <td>139</td>\n",
       "      <td>1376490324898406403</td>\n",
       "      <td>2021-03-29 11:04:02</td>\n",
       "      <td>Twitter Web App</td>\n",
       "      <td>10998</td>\n",
       "      <td>2308</td>\n",
       "    </tr>\n",
       "    <tr>\n",
       "      <th>3</th>\n",
       "      <td>As the exam season begins, I am delighted to s...</td>\n",
       "      <td>140</td>\n",
       "      <td>1376489984186744839</td>\n",
       "      <td>2021-03-29 11:02:40</td>\n",
       "      <td>Twitter Web App</td>\n",
       "      <td>13104</td>\n",
       "      <td>2561</td>\n",
       "    </tr>\n",
       "    <tr>\n",
       "      <th>4</th>\n",
       "      <td>आप सभी को होली की ढेर सारी शुभकामनाएं। आनंद, उ...</td>\n",
       "      <td>132</td>\n",
       "      <td>1376344887033962499</td>\n",
       "      <td>2021-03-29 01:26:06</td>\n",
       "      <td>Twitter for iPhone</td>\n",
       "      <td>160913</td>\n",
       "      <td>23335</td>\n",
       "    </tr>\n",
       "    <tr>\n",
       "      <th>5</th>\n",
       "      <td>Life is all about innovation and learning new ...</td>\n",
       "      <td>140</td>\n",
       "      <td>1376145672144097284</td>\n",
       "      <td>2021-03-28 12:14:30</td>\n",
       "      <td>Twitter Media Studio</td>\n",
       "      <td>13019</td>\n",
       "      <td>2973</td>\n",
       "    </tr>\n",
       "    <tr>\n",
       "      <th>6</th>\n",
       "      <td>The sporting successes of our Nari Shakti make...</td>\n",
       "      <td>97</td>\n",
       "      <td>1376145115182432256</td>\n",
       "      <td>2021-03-28 12:12:17</td>\n",
       "      <td>Twitter Media Studio</td>\n",
       "      <td>21760</td>\n",
       "      <td>3665</td>\n",
       "    </tr>\n",
       "    <tr>\n",
       "      <th>7</th>\n",
       "      <td>During today’s #MannKiBaat programme, a very i...</td>\n",
       "      <td>140</td>\n",
       "      <td>1376145020353413125</td>\n",
       "      <td>2021-03-28 12:11:55</td>\n",
       "      <td>Twitter Media Studio</td>\n",
       "      <td>6780</td>\n",
       "      <td>1772</td>\n",
       "    </tr>\n",
       "    <tr>\n",
       "      <th>8</th>\n",
       "      <td>The largest vaccination drive in the world is ...</td>\n",
       "      <td>140</td>\n",
       "      <td>1376144931882930177</td>\n",
       "      <td>2021-03-28 12:11:33</td>\n",
       "      <td>Twitter Media Studio</td>\n",
       "      <td>10035</td>\n",
       "      <td>2162</td>\n",
       "    </tr>\n",
       "    <tr>\n",
       "      <th>9</th>\n",
       "      <td>India’s Amrut Mahotsav inspires each of us to ...</td>\n",
       "      <td>138</td>\n",
       "      <td>1376144804069978113</td>\n",
       "      <td>2021-03-28 12:11:03</td>\n",
       "      <td>Twitter Media Studio</td>\n",
       "      <td>8420</td>\n",
       "      <td>2157</td>\n",
       "    </tr>\n",
       "  </tbody>\n",
       "</table>\n",
       "</div>"
      ],
      "text/plain": [
       "                                              Tweets  len  \\\n",
       "0  अपनी समृद्ध संस्कृति और वैभवशाली विरासत के लिए...  128   \n",
       "1  The new edition of #ExamWarriors has been enri...  140   \n",
       "2  How to make exam preparation fun?\\n\\nIs there ...  139   \n",
       "3  As the exam season begins, I am delighted to s...  140   \n",
       "4  आप सभी को होली की ढेर सारी शुभकामनाएं। आनंद, उ...  132   \n",
       "5  Life is all about innovation and learning new ...  140   \n",
       "6  The sporting successes of our Nari Shakti make...   97   \n",
       "7  During today’s #MannKiBaat programme, a very i...  140   \n",
       "8  The largest vaccination drive in the world is ...  140   \n",
       "9  India’s Amrut Mahotsav inspires each of us to ...  138   \n",
       "\n",
       "                    ID                Date                Source   Likes  \\\n",
       "0  1376716165897129984 2021-03-30 02:01:26    Twitter for iPhone   37459   \n",
       "1  1376490524643786754 2021-03-29 11:04:49       Twitter Web App   17138   \n",
       "2  1376490324898406403 2021-03-29 11:04:02       Twitter Web App   10998   \n",
       "3  1376489984186744839 2021-03-29 11:02:40       Twitter Web App   13104   \n",
       "4  1376344887033962499 2021-03-29 01:26:06    Twitter for iPhone  160913   \n",
       "5  1376145672144097284 2021-03-28 12:14:30  Twitter Media Studio   13019   \n",
       "6  1376145115182432256 2021-03-28 12:12:17  Twitter Media Studio   21760   \n",
       "7  1376145020353413125 2021-03-28 12:11:55  Twitter Media Studio    6780   \n",
       "8  1376144931882930177 2021-03-28 12:11:33  Twitter Media Studio   10035   \n",
       "9  1376144804069978113 2021-03-28 12:11:03  Twitter Media Studio    8420   \n",
       "\n",
       "     RTs  \n",
       "0   4881  \n",
       "1   3310  \n",
       "2   2308  \n",
       "3   2561  \n",
       "4  23335  \n",
       "5   2973  \n",
       "6   3665  \n",
       "7   1772  \n",
       "8   2162  \n",
       "9   2157  "
      ]
     },
     "metadata": {},
     "output_type": "display_data"
    }
   ],
   "source": [
    "#Display of first 10 elements from dataframe:\n",
    "display(data.head(10))"
   ]
  },
  {
   "cell_type": "code",
   "execution_count": 14,
   "metadata": {},
   "outputs": [
    {
     "name": "stdout",
     "output_type": "stream",
     "text": [
      "The lenght's average in tweets: 126.755\n"
     ]
    }
   ],
   "source": [
    "#we extract the mean of lenghts:\n",
    "\n",
    "mean = np.mean(data['len'])\n",
    "print(\"The lenght's average in tweets: {}\".format(mean))"
   ]
  },
  {
   "cell_type": "code",
   "execution_count": 15,
   "metadata": {},
   "outputs": [
    {
     "name": "stdout",
     "output_type": "stream",
     "text": [
      "4\n",
      "190\n"
     ]
    }
   ],
   "source": [
    "#we extract the tweet with more FAVsand RTs:\n",
    "\n",
    "fav_max = np.max(data['Likes'])\n",
    "rt_max = np.max(data['RTs'])\n",
    "\n",
    "fav = data[data.Likes == fav_max].index[0]\n",
    "rt = data[data.RTs == rt_max].index[0]\n",
    "\n",
    "print(fav)\n",
    "print(rt)"
   ]
  },
  {
   "cell_type": "code",
   "execution_count": null,
   "metadata": {},
   "outputs": [],
   "source": []
  },
  {
   "cell_type": "code",
   "execution_count": 16,
   "metadata": {},
   "outputs": [
    {
     "name": "stdout",
     "output_type": "stream",
     "text": [
      "The tweet with more likes is: \n",
      "आप सभी को होली की ढेर सारी शुभकामनाएं। आनंद, उमंग, हर्ष और उल्लास का यह त्योहार हर किसी के जीवन में नए जोश और नई ऊर्जा का संचार करे।\n",
      "Number of Likes: 160913\n",
      "132 characters.\n",
      "\n",
      "The tweet with more retweets is: \n",
      "बहुत बढ़िया! https://t.co/55ViOzefjQ\n",
      "Number of retweets: 26084\n",
      "36 characters.\n",
      "\n"
     ]
    }
   ],
   "source": [
    "# max FAVs:\n",
    "print(\"The tweet with more likes is: \\n{}\".format(data['Tweets'][fav]))\n",
    "print(\"Number of Likes: {}\".format(fav_max))\n",
    "print(\"{} characters.\\n\".format(data['len'][fav]))\n",
    "\n",
    "# max RTs:\n",
    "print(\"The tweet with more retweets is: \\n{}\".format(data['Tweets'][rt]))\n",
    "print(\"Number of retweets: {}\".format(rt_max))\n",
    "print(\"{} characters.\\n\".format(data['len'][rt]))"
   ]
  },
  {
   "cell_type": "code",
   "execution_count": 17,
   "metadata": {},
   "outputs": [
    {
     "name": "stdout",
     "output_type": "stream",
     "text": [
      "creation of content sources:\n",
      " Twitter for iPhone\n",
      " Twitter Web App\n",
      " Twitter Media Studio\n",
      " Periscope\n"
     ]
    }
   ],
   "source": [
    "#we obtain all possible sources:\n",
    "\n",
    "sources = []\n",
    "for source in data['Source']:\n",
    "    if source not in sources:\n",
    "        sources.append(source)\n",
    "\n",
    "#we print sources list:\n",
    "print(\"creation of content sources:\")\n",
    "for source in sources:\n",
    "    print(\" {}\".format(source))"
   ]
  },
  {
   "cell_type": "code",
   "execution_count": 18,
   "metadata": {},
   "outputs": [],
   "source": [
    "tlen = pd.Series(data=data['len'].values, index=data['Date'])\n",
    "tfav = pd.Series(data=data['Likes'].values, index=data['Date'])\n",
    "tret = pd.Series(data=data['RTs'].values, index=data['Date'])"
   ]
  },
  {
   "cell_type": "code",
   "execution_count": 19,
   "metadata": {},
   "outputs": [
    {
     "name": "stdout",
     "output_type": "stream",
     "text": [
      "Date\n",
      "2021-03-30 02:01:26    128\n",
      "2021-03-29 11:04:49    140\n",
      "2021-03-29 11:04:02    139\n",
      "2021-03-29 11:02:40    140\n",
      "2021-03-29 01:26:06    132\n",
      "                      ... \n",
      "2021-03-09 15:21:41    140\n",
      "2021-03-09 14:43:04    140\n",
      "2021-03-09 14:18:03    140\n",
      "2021-03-09 14:17:41    139\n",
      "2021-03-09 14:17:07    140\n",
      "Length: 200, dtype: int32\n",
      "Date\n",
      "2021-03-30 02:01:26     37459\n",
      "2021-03-29 11:04:49     17138\n",
      "2021-03-29 11:04:02     10998\n",
      "2021-03-29 11:02:40     13104\n",
      "2021-03-29 01:26:06    160913\n",
      "                        ...  \n",
      "2021-03-09 15:21:41     15885\n",
      "2021-03-09 14:43:04     22416\n",
      "2021-03-09 14:18:03     11216\n",
      "2021-03-09 14:17:41      9844\n",
      "2021-03-09 14:17:07      8421\n",
      "Length: 200, dtype: int32\n",
      "Date\n",
      "2021-03-30 02:01:26     4881\n",
      "2021-03-29 11:04:49     3310\n",
      "2021-03-29 11:04:02     2308\n",
      "2021-03-29 11:02:40     2561\n",
      "2021-03-29 01:26:06    23335\n",
      "                       ...  \n",
      "2021-03-09 15:21:41     3973\n",
      "2021-03-09 14:43:04     3604\n",
      "2021-03-09 14:18:03     2727\n",
      "2021-03-09 14:17:41     2514\n",
      "2021-03-09 14:17:07     2260\n",
      "Length: 200, dtype: int32\n"
     ]
    }
   ],
   "source": [
    "print(tlen)\n",
    "print(tfav)\n",
    "print(tret)"
   ]
  },
  {
   "cell_type": "code",
   "execution_count": 20,
   "metadata": {},
   "outputs": [
    {
     "data": {
      "text/plain": [
       "<AxesSubplot:xlabel='Date'>"
      ]
     },
     "execution_count": 20,
     "metadata": {},
     "output_type": "execute_result"
    },
    {
     "data": {
      "image/png": "[encoded data removed]",
      "text/plain": [
       "<Figure size 1152x288 with 1 Axes>"
      ]
     },
     "metadata": {
      "needs_background": "light"
     },
     "output_type": "display_data"
    }
   ],
   "source": [
    "#lenghts along time:\n",
    "tlen.plot(figsize=(16,4), color='r')\n"
   ]
  },
  {
   "cell_type": "code",
   "execution_count": 21,
   "metadata": {},
   "outputs": [
    {
     "data": {
      "image/png": "[encoded data removed]",
      "text/plain": [
       "<Figure size 1152x288 with 1 Axes>"
      ]
     },
     "metadata": {
      "needs_background": "light"
     },
     "output_type": "display_data"
    }
   ],
   "source": [
    "#likes vs retweets visualisation:\n",
    "\n",
    "tfav.plot(figsize=(16,4), label='Likes',legend=True)\n",
    "tret.plot(figsize=(16,4), label='Retweets', legend=True);\n"
   ]
  },
  {
   "cell_type": "code",
   "execution_count": 22,
   "metadata": {},
   "outputs": [
    {
     "data": {
      "image/png": "[encoded data removed]",
      "text/plain": [
       "<Figure size 432x432 with 1 Axes>"
      ]
     },
     "metadata": {},
     "output_type": "display_data"
    }
   ],
   "source": [
    "#we create a numpy vector mapped to labels:\n",
    "percent = np.zeros(len(sources))\n",
    "for source in data['Source']:\n",
    "    for index in range(len(sources)):\n",
    "        if source == sources[index]:\n",
    "            percent[index] += 1\n",
    "            pass\n",
    "percent /= 100\n",
    "\n",
    "#pie chart:\n",
    "pie_chart = pd.Series(percent, index=sources, name='Sources')\n",
    "pie_chart.plot.pie(fontsize=11, autopct= '%.2f', figsize=(6,6));\n",
    "    "
   ]
  },
  {
   "cell_type": "code",
   "execution_count": 24,
   "metadata": {},
   "outputs": [
    {
     "name": "stdout",
     "output_type": "stream",
     "text": [
      "Collecting textblob\n",
      "  Downloading textblob-0.15.3-py2.py3-none-any.whl (636 kB)\n",
      "Requirement already satisfied: nltk>=3.1 in c:\\users\\home pc\\anaconda3\\lib\\site-packages (from textblob) (3.5)\n",
      "Requirement already satisfied: regex in c:\\users\\home pc\\anaconda3\\lib\\site-packages (from nltk>=3.1->textblob) (2020.10.15)\n",
      "Requirement already satisfied: joblib in c:\\users\\home pc\\anaconda3\\lib\\site-packages (from nltk>=3.1->textblob) (0.17.0)\n",
      "Requirement already satisfied: click in c:\\users\\home pc\\anaconda3\\lib\\site-packages (from nltk>=3.1->textblob) (7.1.2)\n",
      "Requirement already satisfied: tqdm in c:\\users\\home pc\\anaconda3\\lib\\site-packages (from nltk>=3.1->textblob) (4.50.2)\n",
      "Installing collected packages: textblob\n",
      "Successfully installed textblob-0.15.3\n"
     ]
    }
   ],
   "source": [
    "!pip install textblob"
   ]
  },
  {
   "cell_type": "code",
   "execution_count": 25,
   "metadata": {},
   "outputs": [],
   "source": [
    "#sentiment analysis\n",
    "\n",
    "from textblob import TextBlob\n",
    "import re                         #regular expression\n",
    "\n",
    "def clean_tweet(tweet):\n",
    "    \"\"\"\n",
    "    utility function to clean the text in a tweet by removing\n",
    "    links and speacial characters using regex.\n",
    "    \"\"\"\n",
    "    return ' '.join(re.sub(\"(@[A-Za-z0-9]+)|([^0-9A-Za-z \\t])|(\\w+:\\/\\/\\S+)\", \" \", tweet).split())\n",
    "\n",
    "def analize_sentiment(tweet):\n",
    "    \"\"\"\n",
    "    utility function to classify the priority of a tweet\n",
    "    using textblobs\n",
    "    \"\"\"\n",
    "    analysis = TextBlob(clean_tweet(tweet))\n",
    "    if analysis.sentiment.polarity > 0:\n",
    "        return 1\n",
    "    elif analysis.sentiment.polarity == 0:\n",
    "        return 0\n",
    "    else:\n",
    "        return -1"
   ]
  },
  {
   "cell_type": "code",
   "execution_count": 26,
   "metadata": {},
   "outputs": [
    {
     "data": {
      "text/html": [
       "<div>\n",
       "<style scoped>\n",
       "    .dataframe tbody tr th:only-of-type {\n",
       "        vertical-align: middle;\n",
       "    }\n",
       "\n",
       "    .dataframe tbody tr th {\n",
       "        vertical-align: top;\n",
       "    }\n",
       "\n",
       "    .dataframe thead th {\n",
       "        text-align: right;\n",
       "    }\n",
       "</style>\n",
       "<table border=\"1\" class=\"dataframe\">\n",
       "  <thead>\n",
       "    <tr style=\"text-align: right;\">\n",
       "      <th></th>\n",
       "      <th>Tweets</th>\n",
       "      <th>len</th>\n",
       "      <th>ID</th>\n",
       "      <th>Date</th>\n",
       "      <th>Source</th>\n",
       "      <th>Likes</th>\n",
       "      <th>RTs</th>\n",
       "      <th>SA</th>\n",
       "    </tr>\n",
       "  </thead>\n",
       "  <tbody>\n",
       "    <tr>\n",
       "      <th>0</th>\n",
       "      <td>अपनी समृद्ध संस्कृति और वैभवशाली विरासत के लिए...</td>\n",
       "      <td>128</td>\n",
       "      <td>1376716165897129984</td>\n",
       "      <td>2021-03-30 02:01:26</td>\n",
       "      <td>Twitter for iPhone</td>\n",
       "      <td>37459</td>\n",
       "      <td>4881</td>\n",
       "      <td>0</td>\n",
       "    </tr>\n",
       "    <tr>\n",
       "      <th>1</th>\n",
       "      <td>The new edition of #ExamWarriors has been enri...</td>\n",
       "      <td>140</td>\n",
       "      <td>1376490524643786754</td>\n",
       "      <td>2021-03-29 11:04:49</td>\n",
       "      <td>Twitter Web App</td>\n",
       "      <td>17138</td>\n",
       "      <td>3310</td>\n",
       "      <td>1</td>\n",
       "    </tr>\n",
       "    <tr>\n",
       "      <th>2</th>\n",
       "      <td>How to make exam preparation fun?\\n\\nIs there ...</td>\n",
       "      <td>139</td>\n",
       "      <td>1376490324898406403</td>\n",
       "      <td>2021-03-29 11:04:02</td>\n",
       "      <td>Twitter Web App</td>\n",
       "      <td>10998</td>\n",
       "      <td>2308</td>\n",
       "      <td>1</td>\n",
       "    </tr>\n",
       "    <tr>\n",
       "      <th>3</th>\n",
       "      <td>As the exam season begins, I am delighted to s...</td>\n",
       "      <td>140</td>\n",
       "      <td>1376489984186744839</td>\n",
       "      <td>2021-03-29 11:02:40</td>\n",
       "      <td>Twitter Web App</td>\n",
       "      <td>13104</td>\n",
       "      <td>2561</td>\n",
       "      <td>1</td>\n",
       "    </tr>\n",
       "    <tr>\n",
       "      <th>4</th>\n",
       "      <td>आप सभी को होली की ढेर सारी शुभकामनाएं। आनंद, उ...</td>\n",
       "      <td>132</td>\n",
       "      <td>1376344887033962499</td>\n",
       "      <td>2021-03-29 01:26:06</td>\n",
       "      <td>Twitter for iPhone</td>\n",
       "      <td>160913</td>\n",
       "      <td>23335</td>\n",
       "      <td>0</td>\n",
       "    </tr>\n",
       "    <tr>\n",
       "      <th>5</th>\n",
       "      <td>Life is all about innovation and learning new ...</td>\n",
       "      <td>140</td>\n",
       "      <td>1376145672144097284</td>\n",
       "      <td>2021-03-28 12:14:30</td>\n",
       "      <td>Twitter Media Studio</td>\n",
       "      <td>13019</td>\n",
       "      <td>2973</td>\n",
       "      <td>1</td>\n",
       "    </tr>\n",
       "    <tr>\n",
       "      <th>6</th>\n",
       "      <td>The sporting successes of our Nari Shakti make...</td>\n",
       "      <td>97</td>\n",
       "      <td>1376145115182432256</td>\n",
       "      <td>2021-03-28 12:12:17</td>\n",
       "      <td>Twitter Media Studio</td>\n",
       "      <td>21760</td>\n",
       "      <td>3665</td>\n",
       "      <td>1</td>\n",
       "    </tr>\n",
       "    <tr>\n",
       "      <th>7</th>\n",
       "      <td>During today’s #MannKiBaat programme, a very i...</td>\n",
       "      <td>140</td>\n",
       "      <td>1376145020353413125</td>\n",
       "      <td>2021-03-28 12:11:55</td>\n",
       "      <td>Twitter Media Studio</td>\n",
       "      <td>6780</td>\n",
       "      <td>1772</td>\n",
       "      <td>1</td>\n",
       "    </tr>\n",
       "    <tr>\n",
       "      <th>8</th>\n",
       "      <td>The largest vaccination drive in the world is ...</td>\n",
       "      <td>140</td>\n",
       "      <td>1376144931882930177</td>\n",
       "      <td>2021-03-28 12:11:33</td>\n",
       "      <td>Twitter Media Studio</td>\n",
       "      <td>10035</td>\n",
       "      <td>2162</td>\n",
       "      <td>1</td>\n",
       "    </tr>\n",
       "    <tr>\n",
       "      <th>9</th>\n",
       "      <td>India’s Amrut Mahotsav inspires each of us to ...</td>\n",
       "      <td>138</td>\n",
       "      <td>1376144804069978113</td>\n",
       "      <td>2021-03-28 12:11:03</td>\n",
       "      <td>Twitter Media Studio</td>\n",
       "      <td>8420</td>\n",
       "      <td>2157</td>\n",
       "      <td>1</td>\n",
       "    </tr>\n",
       "  </tbody>\n",
       "</table>\n",
       "</div>"
      ],
      "text/plain": [
       "                                              Tweets  len  \\\n",
       "0  अपनी समृद्ध संस्कृति और वैभवशाली विरासत के लिए...  128   \n",
       "1  The new edition of #ExamWarriors has been enri...  140   \n",
       "2  How to make exam preparation fun?\\n\\nIs there ...  139   \n",
       "3  As the exam season begins, I am delighted to s...  140   \n",
       "4  आप सभी को होली की ढेर सारी शुभकामनाएं। आनंद, उ...  132   \n",
       "5  Life is all about innovation and learning new ...  140   \n",
       "6  The sporting successes of our Nari Shakti make...   97   \n",
       "7  During today’s #MannKiBaat programme, a very i...  140   \n",
       "8  The largest vaccination drive in the world is ...  140   \n",
       "9  India’s Amrut Mahotsav inspires each of us to ...  138   \n",
       "\n",
       "                    ID                Date                Source   Likes  \\\n",
       "0  1376716165897129984 2021-03-30 02:01:26    Twitter for iPhone   37459   \n",
       "1  1376490524643786754 2021-03-29 11:04:49       Twitter Web App   17138   \n",
       "2  1376490324898406403 2021-03-29 11:04:02       Twitter Web App   10998   \n",
       "3  1376489984186744839 2021-03-29 11:02:40       Twitter Web App   13104   \n",
       "4  1376344887033962499 2021-03-29 01:26:06    Twitter for iPhone  160913   \n",
       "5  1376145672144097284 2021-03-28 12:14:30  Twitter Media Studio   13019   \n",
       "6  1376145115182432256 2021-03-28 12:12:17  Twitter Media Studio   21760   \n",
       "7  1376145020353413125 2021-03-28 12:11:55  Twitter Media Studio    6780   \n",
       "8  1376144931882930177 2021-03-28 12:11:33  Twitter Media Studio   10035   \n",
       "9  1376144804069978113 2021-03-28 12:11:03  Twitter Media Studio    8420   \n",
       "\n",
       "     RTs  SA  \n",
       "0   4881   0  \n",
       "1   3310   1  \n",
       "2   2308   1  \n",
       "3   2561   1  \n",
       "4  23335   0  \n",
       "5   2973   1  \n",
       "6   3665   1  \n",
       "7   1772   1  \n",
       "8   2162   1  \n",
       "9   2157   1  "
      ]
     },
     "metadata": {},
     "output_type": "display_data"
    }
   ],
   "source": [
    "#create a column with the result of the analysis:\n",
    "data['SA'] = np.array([ analize_sentiment(tweet) for tweet in data['Tweets'] ])\n",
    "\n",
    "#we displaqy the updated dataframe with the new column:\n",
    "display(data.head(10))"
   ]
  },
  {
   "cell_type": "code",
   "execution_count": 27,
   "metadata": {},
   "outputs": [],
   "source": [
    "#we construct lists with classified tweets:\n",
    "\n",
    "pos_tweets = [ tweet for index, tweet in enumerate(data['Tweets']) if data['SA'][index] > 0]\n",
    "neu_tweets = [ tweet for index, tweet in enumerate(data['Tweets']) if data['SA'][index] == 0]\n",
    "neg_tweets = [ tweet for index, tweet in enumerate(data['Tweets']) if data['SA'][index] < 0]"
   ]
  },
  {
   "cell_type": "code",
   "execution_count": 28,
   "metadata": {},
   "outputs": [
    {
     "name": "stdout",
     "output_type": "stream",
     "text": [
      "Percent of positive tweets: 33.0%\n",
      "Percent of neutral tweets: 65.5%\n",
      "Percent of negative tweets: 1.5%\n"
     ]
    }
   ],
   "source": [
    "print(\"Percent of positive tweets: {}%\".format(len(pos_tweets)*100/len(data['Tweets'])))\n",
    "print(\"Percent of neutral tweets: {}%\".format(len(neu_tweets)*100/len(data['Tweets'])))\n",
    "print(\"Percent of negative tweets: {}%\".format(len(neg_tweets)*100/len(data['Tweets'])))"
   ]
  },
  {
   "cell_type": "code",
   "execution_count": null,
   "metadata": {},
   "outputs": [],
   "source": []
  },
  {
   "cell_type": "code",
   "execution_count": null,
   "metadata": {},
   "outputs": [],
   "source": []
  },
  {
   "cell_type": "code",
   "execution_count": null,
   "metadata": {},
   "outputs": [],
   "source": []
  },
  {
   "cell_type": "code",
   "execution_count": null,
   "metadata": {},
   "outputs": [],
   "source": []
  },
  {
   "cell_type": "code",
   "execution_count": null,
   "metadata": {},
   "outputs": [],
   "source": []
  },
  {
   "cell_type": "code",
   "execution_count": null,
   "metadata": {},
   "outputs": [],
   "source": []
  },
  {
   "cell_type": "code",
   "execution_count": null,
   "metadata": {},
   "outputs": [],
   "source": []
  },
  {
   "cell_type": "code",
   "execution_count": null,
   "metadata": {},
   "outputs": [],
   "source": []
  }
 ],
 "metadata": {
  "kernelspec": {
   "display_name": "Python 3",
   "language": "python",
   "name": "python3"
  },
  "language_info": {
   "codemirror_mode": {
    "name": "ipython",
    "version": 3
   },
   "file_extension": ".py",
   "mimetype": "text/x-python",
   "name": "python",
   "nbconvert_exporter": "python",
   "pygments_lexer": "ipython3",
   "version": "3.8.5"
  }
 },
 "nbformat": 4,
 "nbformat_minor": 2
}
