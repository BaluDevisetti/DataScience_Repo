{
 "cells": [
  {
   "cell_type": "code",
   "execution_count": 3,
   "metadata": {},
   "outputs": [],
   "source": [
    "#General:\n",
    "import tweepy       #To consume twitter's API\n",
    "import numpy as np  #TO HANDLE DATA\n",
    "import pandas as pd #To number computing\n",
    "\n",
    "#for plotting and visualization\n",
    "from IPython.display import display\n",
    "#import seaborn as sns\n",
    "%matplotlib inline\n"
   ]
  },
  {
   "cell_type": "code",
   "execution_count": 6,
   "metadata": {},
   "outputs": [],
   "source": [
    "import matplotlib.pyplot as plt"
   ]
  },
  {
   "cell_type": "code",
   "execution_count": 8,
   "metadata": {},
   "outputs": [],
   "source": [
    "#Twitter app access keys for @user\n",
    "#consume\n",
    "CONSUMER_KEY = 'QbrqL6ojrIIiqIJLj6gV2v6I2'\n",
    "CONSUMER_SECRET = 'YLe3LTUFh6dXtvQaArrK8OBNG49JT8xNVwZUwbMHwU3N8ALKG2'\n",
    "\n",
    "#Access\n",
    "ACCESS_TOKEN = '1515145326-qgPTVDWtkV09oOnI65GiKZfDPsv6A7FZA68JVho'\n",
    "ACCESS_SECRET = 'fYALlob27muHM2dyWalr0hQWMQnoS0xDEhLToDcRKYVbD'"
   ]
  },
  {
   "cell_type": "code",
   "execution_count": 10,
   "metadata": {},
   "outputs": [],
   "source": [
    "#API setup\n",
    "def twitter_setup():\n",
    "    \"\"\"\n",
    "    utility function to setup Twitter's API\n",
    "    with our Access key's provided\n",
    "    \"\"\"\n",
    "    #Authentication and access using keys\n",
    "    auth = tweepy.OAuthHandler(CONSUMER_KEY,CONSUMER_SECRET)\n",
    "    auth.set_access_token(ACCESS_TOKEN,ACCESS_SECRET)\n",
    "    #Return API with Authentication\n",
    "    api = tweepy.API(auth)\n",
    "    return api"
   ]
  },
  {
   "cell_type": "code",
   "execution_count": 12,
   "metadata": {},
   "outputs": [
    {
     "name": "stdout",
     "output_type": "stream",
     "text": [
      "Number of tweets extracted: 200.\n",
      "\n",
      "5 Recent Tweets:\n",
      "\n",
      "Addressing Indian and Korean businesspersons in Seoul. Watch. https://t.co/d2HH7L0nnU\n",
      "\n",
      "Subjects relating to world peace, security, the need to fight terrorism figured during the talks with HRH Mohammed Bin Salman.\n",
      "\n",
      "HRH Mohammed Bin Salman and I discussed aspects relating to closer investment ties between our nations. We also had… https://t.co/z4a8cStvFt\n",
      "\n",
      "Held extensive talks with HRH Mohammed Bin Salman, the Crown Prince of Saudi Arabia. \n",
      "\n",
      "India’s ties with Saudi Arab… https://t.co/fWnCGIVfmX\n",
      "\n",
      "During our talks, President @moonriver365 and I will take forward our conversations from last year on how best to a… https://t.co/r6BbFKz4AY\n",
      "\n"
     ]
    }
   ],
   "source": [
    "#we create an Extractor object\n",
    "\n",
    "extractor = twitter_setup()\n",
    "\n",
    "#we create a tweet list as follows\n",
    "tweets = extractor.user_timeline(screen_name = \"@narendramodi\", count = 200)\n",
    "print(\"Number of tweets extracted: {}.\\n\".format(len(tweets)))\n",
    "\n",
    "#we print the most recent 5 tweets:\n",
    "print(\"5 Recent Tweets:\\n\")\n",
    "for tweet in tweets[:5]:\n",
    "    print(tweet.text)\n",
    "    print()"
   ]
  },
  {
   "cell_type": "code",
   "execution_count": 13,
   "metadata": {},
   "outputs": [
    {
     "data": {
      "text/html": [
       "<div>\n",
       "<style scoped>\n",
       "    .dataframe tbody tr th:only-of-type {\n",
       "        vertical-align: middle;\n",
       "    }\n",
       "\n",
       "    .dataframe tbody tr th {\n",
       "        vertical-align: top;\n",
       "    }\n",
       "\n",
       "    .dataframe thead th {\n",
       "        text-align: right;\n",
       "    }\n",
       "</style>\n",
       "<table border=\"1\" class=\"dataframe\">\n",
       "  <thead>\n",
       "    <tr style=\"text-align: right;\">\n",
       "      <th></th>\n",
       "      <th>Tweets</th>\n",
       "    </tr>\n",
       "  </thead>\n",
       "  <tbody>\n",
       "    <tr>\n",
       "      <th>0</th>\n",
       "      <td>Addressing Indian and Korean businesspersons i...</td>\n",
       "    </tr>\n",
       "    <tr>\n",
       "      <th>1</th>\n",
       "      <td>Subjects relating to world peace, security, th...</td>\n",
       "    </tr>\n",
       "    <tr>\n",
       "      <th>2</th>\n",
       "      <td>HRH Mohammed Bin Salman and I discussed aspect...</td>\n",
       "    </tr>\n",
       "    <tr>\n",
       "      <th>3</th>\n",
       "      <td>Held extensive talks with HRH Mohammed Bin Sal...</td>\n",
       "    </tr>\n",
       "    <tr>\n",
       "      <th>4</th>\n",
       "      <td>During our talks, President @moonriver365 and ...</td>\n",
       "    </tr>\n",
       "    <tr>\n",
       "      <th>5</th>\n",
       "      <td>As fellow democracies, India and ROK have shar...</td>\n",
       "    </tr>\n",
       "    <tr>\n",
       "      <th>6</th>\n",
       "      <td>This evening, I will be leaving for the Republ...</td>\n",
       "    </tr>\n",
       "    <tr>\n",
       "      <th>7</th>\n",
       "      <td>Addressing the media after talks with HRH Moha...</td>\n",
       "    </tr>\n",
       "    <tr>\n",
       "      <th>8</th>\n",
       "      <td>हिन्दी साहित्य के शिखर पुरुष नामवर सिंह जी के ...</td>\n",
       "    </tr>\n",
       "    <tr>\n",
       "      <th>9</th>\n",
       "      <td>Best wishes on Mizoram Statehood Day. \\n\\nThe ...</td>\n",
       "    </tr>\n",
       "  </tbody>\n",
       "</table>\n",
       "</div>"
      ],
      "text/plain": [
       "                                              Tweets\n",
       "0  Addressing Indian and Korean businesspersons i...\n",
       "1  Subjects relating to world peace, security, th...\n",
       "2  HRH Mohammed Bin Salman and I discussed aspect...\n",
       "3  Held extensive talks with HRH Mohammed Bin Sal...\n",
       "4  During our talks, President @moonriver365 and ...\n",
       "5  As fellow democracies, India and ROK have shar...\n",
       "6  This evening, I will be leaving for the Republ...\n",
       "7  Addressing the media after talks with HRH Moha...\n",
       "8  हिन्दी साहित्य के शिखर पुरुष नामवर सिंह जी के ...\n",
       "9  Best wishes on Mizoram Statehood Day. \\n\\nThe ..."
      ]
     },
     "metadata": {},
     "output_type": "execute_result"
    }
   ],
   "source": [
    "#we create a pandas dataframe as follows:\n",
    "\n",
    "data = pd.DataFrame(data=[tweet.text for tweet in tweets], columns=['Tweets'])\n",
    "\n",
    "#we dispplay the first 10 elements of the dataframe\n",
    "display(data.head(10))"
   ]
  },
  {
   "cell_type": "code",
   "execution_count": 14,
   "metadata": {},
   "outputs": [
    {
     "name": "stdout",
     "output_type": "stream",
     "text": [
      "['__class__', '__delattr__', '__dict__', '__dir__', '__doc__', '__eq__', '__format__', '__ge__', '__getattribute__', '__getstate__', '__gt__', '__hash__', '__init__', '__init_subclass__', '__le__', '__lt__', '__module__', '__ne__', '__new__', '__reduce__', '__reduce_ex__', '__repr__', '__setattr__', '__sizeof__', '__str__', '__subclasshook__', '__weakref__', '_api', '_json', 'author', 'contributors', 'coordinates', 'created_at', 'destroy', 'entities', 'favorite', 'favorite_count', 'favorited', 'geo', 'id', 'id_str', 'in_reply_to_screen_name', 'in_reply_to_status_id', 'in_reply_to_status_id_str', 'in_reply_to_user_id', 'in_reply_to_user_id_str', 'is_quote_status', 'lang', 'parse', 'parse_list', 'place', 'possibly_sensitive', 'retweet', 'retweet_count', 'retweeted', 'retweets', 'source', 'source_url', 'text', 'truncated', 'user']\n"
     ]
    }
   ],
   "source": [
    "#internal methods of a single twwet object\n",
    "print(dir(tweets[0]))"
   ]
  },
  {
   "cell_type": "code",
   "execution_count": 16,
   "metadata": {},
   "outputs": [
    {
     "name": "stdout",
     "output_type": "stream",
     "text": [
      "1098458672278102016\n",
      "2019-02-21 05:45:30\n",
      "Periscope\n",
      "3689\n",
      "1111\n",
      "None\n",
      "None\n",
      "{'hashtags': [], 'symbols': [], 'user_mentions': [], 'urls': [{'url': 'https://t.co/d2HH7L0nnU', 'expanded_url': 'https://www.pscp.tv/w/bz4yejMyMjExNTJ8MU95S0F5cFp2QkxLYle1NBqc3MhipbxAVtUyGcnojAfFRWoVFWFwfs27gcET', 'display_url': 'pscp.tv/w/bz4yejMyMjEx…', 'indices': [62, 85]}]}\n"
     ]
    }
   ],
   "source": [
    "#we print info from the first tweet\n",
    "\n",
    "print(tweets[0].id)\n",
    "print(tweets[0].created_at)\n",
    "print(tweets[0].source)\n",
    "print(tweets[0].favorite_count)\n",
    "print(tweets[0].retweet_count)\n",
    "print(tweets[0].geo)\n",
    "print(tweets[0].coordinates)\n",
    "print(tweets[0].entities)\n"
   ]
  },
  {
   "cell_type": "code",
   "execution_count": 18,
   "metadata": {},
   "outputs": [],
   "source": [
    "#we add relevant data\n",
    "\n",
    "data['len'] = np.array([len(tweet.text) for tweet in tweets])\n",
    "data['ID'] = np.array([tweet.id for tweet in tweets])\n",
    "data['Date'] = np.array([tweet.created_at for tweet in tweets])\n",
    "data['Source'] = np.array([tweet.source for tweet in tweets])\n",
    "data['Likes'] = np.array([tweet.favorite_count for tweet in tweets])\n",
    "data['RTs'] = np.array([tweet.retweet_count for tweet in tweets])\n"
   ]
  },
  {
   "cell_type": "code",
   "execution_count": 19,
   "metadata": {},
   "outputs": [
    {
     "data": {
      "text/html": [
       "<div>\n",
       "<style scoped>\n",
       "    .dataframe tbody tr th:only-of-type {\n",
       "        vertical-align: middle;\n",
       "    }\n",
       "\n",
       "    .dataframe tbody tr th {\n",
       "        vertical-align: top;\n",
       "    }\n",
       "\n",
       "    .dataframe thead th {\n",
       "        text-align: right;\n",
       "    }\n",
       "</style>\n",
       "<table border=\"1\" class=\"dataframe\">\n",
       "  <thead>\n",
       "    <tr style=\"text-align: right;\">\n",
       "      <th></th>\n",
       "      <th>Tweets</th>\n",
       "      <th>len</th>\n",
       "      <th>ID</th>\n",
       "      <th>Date</th>\n",
       "      <th>Source</th>\n",
       "      <th>Likes</th>\n",
       "      <th>RTs</th>\n",
       "    </tr>\n",
       "  </thead>\n",
       "  <tbody>\n",
       "    <tr>\n",
       "      <th>0</th>\n",
       "      <td>Addressing Indian and Korean businesspersons i...</td>\n",
       "      <td>85</td>\n",
       "      <td>1098458672278102016</td>\n",
       "      <td>2019-02-21 05:45:30</td>\n",
       "      <td>Periscope</td>\n",
       "      <td>3689</td>\n",
       "      <td>1111</td>\n",
       "    </tr>\n",
       "    <tr>\n",
       "      <th>1</th>\n",
       "      <td>Subjects relating to world peace, security, th...</td>\n",
       "      <td>126</td>\n",
       "      <td>1098240352627113984</td>\n",
       "      <td>2019-02-20 15:17:59</td>\n",
       "      <td>Twitter for iPhone</td>\n",
       "      <td>13546</td>\n",
       "      <td>2934</td>\n",
       "    </tr>\n",
       "    <tr>\n",
       "      <th>2</th>\n",
       "      <td>HRH Mohammed Bin Salman and I discussed aspect...</td>\n",
       "      <td>140</td>\n",
       "      <td>1098240346457362432</td>\n",
       "      <td>2019-02-20 15:17:57</td>\n",
       "      <td>Twitter for iPhone</td>\n",
       "      <td>17927</td>\n",
       "      <td>3600</td>\n",
       "    </tr>\n",
       "    <tr>\n",
       "      <th>3</th>\n",
       "      <td>Held extensive talks with HRH Mohammed Bin Sal...</td>\n",
       "      <td>140</td>\n",
       "      <td>1098240271265992704</td>\n",
       "      <td>2019-02-20 15:17:39</td>\n",
       "      <td>Twitter for iPhone</td>\n",
       "      <td>27289</td>\n",
       "      <td>5236</td>\n",
       "    </tr>\n",
       "    <tr>\n",
       "      <th>4</th>\n",
       "      <td>During our talks, President @moonriver365 and ...</td>\n",
       "      <td>140</td>\n",
       "      <td>1098196600701313024</td>\n",
       "      <td>2019-02-20 12:24:07</td>\n",
       "      <td>Twitter for iPhone</td>\n",
       "      <td>11441</td>\n",
       "      <td>3080</td>\n",
       "    </tr>\n",
       "    <tr>\n",
       "      <th>5</th>\n",
       "      <td>As fellow democracies, India and ROK have shar...</td>\n",
       "      <td>140</td>\n",
       "      <td>1098196597530394624</td>\n",
       "      <td>2019-02-20 12:24:07</td>\n",
       "      <td>Twitter for iPhone</td>\n",
       "      <td>11365</td>\n",
       "      <td>3010</td>\n",
       "    </tr>\n",
       "    <tr>\n",
       "      <th>6</th>\n",
       "      <td>This evening, I will be leaving for the Republ...</td>\n",
       "      <td>140</td>\n",
       "      <td>1098196593273159680</td>\n",
       "      <td>2019-02-20 12:24:05</td>\n",
       "      <td>Twitter for iPhone</td>\n",
       "      <td>21313</td>\n",
       "      <td>5154</td>\n",
       "    </tr>\n",
       "    <tr>\n",
       "      <th>7</th>\n",
       "      <td>Addressing the media after talks with HRH Moha...</td>\n",
       "      <td>120</td>\n",
       "      <td>1098134316360511488</td>\n",
       "      <td>2019-02-20 08:16:38</td>\n",
       "      <td>Periscope</td>\n",
       "      <td>17121</td>\n",
       "      <td>5666</td>\n",
       "    </tr>\n",
       "    <tr>\n",
       "      <th>8</th>\n",
       "      <td>हिन्दी साहित्य के शिखर पुरुष नामवर सिंह जी के ...</td>\n",
       "      <td>139</td>\n",
       "      <td>1098090090251710464</td>\n",
       "      <td>2019-02-20 05:20:53</td>\n",
       "      <td>Twitter Web Client</td>\n",
       "      <td>24652</td>\n",
       "      <td>5513</td>\n",
       "    </tr>\n",
       "    <tr>\n",
       "      <th>9</th>\n",
       "      <td>Best wishes on Mizoram Statehood Day. \\n\\nThe ...</td>\n",
       "      <td>140</td>\n",
       "      <td>1098071022857641986</td>\n",
       "      <td>2019-02-20 04:05:07</td>\n",
       "      <td>Twitter for iPhone</td>\n",
       "      <td>20772</td>\n",
       "      <td>5001</td>\n",
       "    </tr>\n",
       "  </tbody>\n",
       "</table>\n",
       "</div>"
      ],
      "text/plain": [
       "                                              Tweets  len  \\\n",
       "0  Addressing Indian and Korean businesspersons i...   85   \n",
       "1  Subjects relating to world peace, security, th...  126   \n",
       "2  HRH Mohammed Bin Salman and I discussed aspect...  140   \n",
       "3  Held extensive talks with HRH Mohammed Bin Sal...  140   \n",
       "4  During our talks, President @moonriver365 and ...  140   \n",
       "5  As fellow democracies, India and ROK have shar...  140   \n",
       "6  This evening, I will be leaving for the Republ...  140   \n",
       "7  Addressing the media after talks with HRH Moha...  120   \n",
       "8  हिन्दी साहित्य के शिखर पुरुष नामवर सिंह जी के ...  139   \n",
       "9  Best wishes on Mizoram Statehood Day. \\n\\nThe ...  140   \n",
       "\n",
       "                    ID                Date              Source  Likes   RTs  \n",
       "0  1098458672278102016 2019-02-21 05:45:30           Periscope   3689  1111  \n",
       "1  1098240352627113984 2019-02-20 15:17:59  Twitter for iPhone  13546  2934  \n",
       "2  1098240346457362432 2019-02-20 15:17:57  Twitter for iPhone  17927  3600  \n",
       "3  1098240271265992704 2019-02-20 15:17:39  Twitter for iPhone  27289  5236  \n",
       "4  1098196600701313024 2019-02-20 12:24:07  Twitter for iPhone  11441  3080  \n",
       "5  1098196597530394624 2019-02-20 12:24:07  Twitter for iPhone  11365  3010  \n",
       "6  1098196593273159680 2019-02-20 12:24:05  Twitter for iPhone  21313  5154  \n",
       "7  1098134316360511488 2019-02-20 08:16:38           Periscope  17121  5666  \n",
       "8  1098090090251710464 2019-02-20 05:20:53  Twitter Web Client  24652  5513  \n",
       "9  1098071022857641986 2019-02-20 04:05:07  Twitter for iPhone  20772  5001  "
      ]
     },
     "metadata": {},
     "output_type": "execute_result"
    }
   ],
   "source": [
    "#Display of first 10 elements from dataframe:\n",
    "display(data.head(10))"
   ]
  },
  {
   "cell_type": "code",
   "execution_count": 20,
   "metadata": {},
   "outputs": [
    {
     "name": "stdout",
     "output_type": "stream",
     "text": [
      "The lenght's average in tweets: 126.315\n"
     ]
    }
   ],
   "source": [
    "#we extract the mean of lenghts:\n",
    "\n",
    "mean = np.mean(data['len'])\n",
    "print(\"The lenght's average in tweets: {}\".format(mean))"
   ]
  },
  {
   "cell_type": "code",
   "execution_count": 21,
   "metadata": {},
   "outputs": [],
   "source": [
    "#we extract the tweet with more FAVsand RTs:\n",
    "\n",
    "fav_max = np.max(data['Likes'])\n",
    "rt_max = np.max(data['RTs'])\n",
    "\n",
    "fav = data[data.Likes == fav_max].index[0]\n",
    "rt = data[data.RTs == rt_max].index[0]"
   ]
  },
  {
   "cell_type": "code",
   "execution_count": 23,
   "metadata": {},
   "outputs": [
    {
     "name": "stdout",
     "output_type": "stream",
     "text": [
      "The tweet with more likes is: \n",
      "We salute you, brave sons of Mother India. \n",
      "\n",
      "You lived for the nation and served the country with unparalleled valo… https://t.co/UxsjSNFENs\n",
      "Number of Likes: 156611\n",
      "140 characters.\n",
      "\n",
      "The tweet with more retweets is: \n",
      "Attack on CRPF personnel in Pulwama is despicable. I strongly condemn this dastardly attack. The sacrifices of our… https://t.co/QaTBqQrojk\n",
      "Number of retweets: 42857\n",
      "139 characters.\n",
      "\n"
     ]
    }
   ],
   "source": [
    "# max FAVs:\n",
    "print(\"The tweet with more likes is: \\n{}\".format(data['Tweets'][fav]))\n",
    "print(\"Number of Likes: {}\".format(fav_max))\n",
    "print(\"{} characters.\\n\".format(data['len'][fav]))\n",
    "\n",
    "# max RTs:\n",
    "print(\"The tweet with more retweets is: \\n{}\".format(data['Tweets'][rt]))\n",
    "print(\"Number of retweets: {}\".format(rt_max))\n",
    "print(\"{} characters.\\n\".format(data['len'][rt]))"
   ]
  },
  {
   "cell_type": "code",
   "execution_count": 26,
   "metadata": {},
   "outputs": [
    {
     "name": "stdout",
     "output_type": "stream",
     "text": [
      "creation of content sources:\n",
      " Periscope\n",
      " Twitter for iPhone\n",
      " Twitter Web Client\n",
      " Twitter Media Studio\n",
      " Twitter for Android\n"
     ]
    }
   ],
   "source": [
    "#we obtain all possible sources:\n",
    "\n",
    "sources = []\n",
    "for source in data['Source']:\n",
    "    if source not in sources:\n",
    "        sources.append(source)\n",
    "\n",
    "#we print sources list:\n",
    "print(\"creation of content sources:\")\n",
    "for source in sources:\n",
    "    print(\" {}\".format(source))"
   ]
  },
  {
   "cell_type": "code",
   "execution_count": 27,
   "metadata": {},
   "outputs": [],
   "source": [
    "tlen = pd.Series(data=data['len'].values, index=data['Date'])\n",
    "tfav = pd.Series(data=data['Likes'].values, index=data['Date'])\n",
    "tret = pd.Series(data=data['RTs'].values, index=data['Date'])"
   ]
  },
  {
   "cell_type": "code",
   "execution_count": 28,
   "metadata": {},
   "outputs": [
    {
     "data": {
      "text/plain": [
       "<matplotlib.axes._subplots.AxesSubplot at 0x1dda8405588>"
      ]
     },
     "execution_count": 28,
     "metadata": {},
     "output_type": "execute_result"
    },
    {
     "data": {
      "image/png": "[encoded data removed]",
      "text/plain": [
       "<Figure size 1152x288 with 1 Axes>"
      ]
     },
     "metadata": {
      "needs_background": "light"
     },
     "output_type": "display_data"
    }
   ],
   "source": [
    "#lenghts along time:\n",
    "tlen.plot(figsize=(16,4), color='r')\n"
   ]
  },
  {
   "cell_type": "code",
   "execution_count": 32,
   "metadata": {},
   "outputs": [
    {
     "data": {
      "image/png": "[encoded data removed]",
      "text/plain": [
       "<Figure size 1152x288 with 1 Axes>"
      ]
     },
     "metadata": {
      "needs_background": "light"
     },
     "output_type": "display_data"
    }
   ],
   "source": [
    "#likes vs retweets visualisation:\n",
    "\n",
    "tfav.plot(figsize=(16,4), label='Likes',legend=True)\n",
    "tret.plot(figsize=(16,4), label='Retweets', legend=True);\n"
   ]
  },
  {
   "cell_type": "code",
   "execution_count": 34,
   "metadata": {},
   "outputs": [
    {
     "data": {
      "image/png": "[encoded data removed]",
      "text/plain": [
       "<Figure size 432x432 with 1 Axes>"
      ]
     },
     "metadata": {},
     "output_type": "display_data"
    }
   ],
   "source": [
    "#we create a numpy vector mapped to labels:\n",
    "percent = np.zeros(len(sources))\n",
    "for source in data['Source']:\n",
    "    for index in range(len(sources)):\n",
    "        if source == sources[index]:\n",
    "            percent[index] += 1\n",
    "            pass\n",
    "percent /= 100\n",
    "\n",
    "#pie chart:\n",
    "pie_chart = pd.Series(percent, index=sources, name='Sources')\n",
    "pie_chart.plot.pie(fontsize=11, autopct= '%.2f', figsize=(6,6));\n",
    "    "
   ]
  },
  {
   "cell_type": "code",
   "execution_count": 37,
   "metadata": {},
   "outputs": [],
   "source": [
    "#sentiment analysis\n",
    "\n",
    "from textblob import TextBlob\n",
    "import re                         #regular expression\n",
    "\n",
    "def clean_tweet(tweet):\n",
    "    \"\"\"\n",
    "    utility function to clean the text in a tweet by removing\n",
    "    links and speacial characters using regex.\n",
    "    \"\"\"\n",
    "    return ' '.join(re.sub(\"(@[A-Za-z0-9]+)|([^0-9A-Za-z \\t])|(\\w+:\\/\\/\\S+)\", \" \", tweet).split())\n",
    "\n",
    "def analize_sentiment(tweet):\n",
    "    \"\"\"\n",
    "    utility function to classify the priority of a tweet\n",
    "    using textblobs\n",
    "    \"\"\"\n",
    "    analysis = TextBlob(clean_tweet(tweet))\n",
    "    if analysis.sentiment.polarity > 0:\n",
    "        return 1\n",
    "    elif analysis.sentiment.polarity == 0:\n",
    "        return 0\n",
    "    else:\n",
    "        return -1"
   ]
  },
  {
   "cell_type": "code",
   "execution_count": 38,
   "metadata": {},
   "outputs": [
    {
     "data": {
      "text/html": [
       "<div>\n",
       "<style scoped>\n",
       "    .dataframe tbody tr th:only-of-type {\n",
       "        vertical-align: middle;\n",
       "    }\n",
       "\n",
       "    .dataframe tbody tr th {\n",
       "        vertical-align: top;\n",
       "    }\n",
       "\n",
       "    .dataframe thead th {\n",
       "        text-align: right;\n",
       "    }\n",
       "</style>\n",
       "<table border=\"1\" class=\"dataframe\">\n",
       "  <thead>\n",
       "    <tr style=\"text-align: right;\">\n",
       "      <th></th>\n",
       "      <th>Tweets</th>\n",
       "      <th>len</th>\n",
       "      <th>ID</th>\n",
       "      <th>Date</th>\n",
       "      <th>Source</th>\n",
       "      <th>Likes</th>\n",
       "      <th>RTs</th>\n",
       "      <th>SA</th>\n",
       "    </tr>\n",
       "  </thead>\n",
       "  <tbody>\n",
       "    <tr>\n",
       "      <th>0</th>\n",
       "      <td>Addressing Indian and Korean businesspersons i...</td>\n",
       "      <td>85</td>\n",
       "      <td>1098458672278102016</td>\n",
       "      <td>2019-02-21 05:45:30</td>\n",
       "      <td>Periscope</td>\n",
       "      <td>3689</td>\n",
       "      <td>1111</td>\n",
       "      <td>0</td>\n",
       "    </tr>\n",
       "    <tr>\n",
       "      <th>1</th>\n",
       "      <td>Subjects relating to world peace, security, th...</td>\n",
       "      <td>126</td>\n",
       "      <td>1098240352627113984</td>\n",
       "      <td>2019-02-20 15:17:59</td>\n",
       "      <td>Twitter for iPhone</td>\n",
       "      <td>13546</td>\n",
       "      <td>2934</td>\n",
       "      <td>0</td>\n",
       "    </tr>\n",
       "    <tr>\n",
       "      <th>2</th>\n",
       "      <td>HRH Mohammed Bin Salman and I discussed aspect...</td>\n",
       "      <td>140</td>\n",
       "      <td>1098240346457362432</td>\n",
       "      <td>2019-02-20 15:17:57</td>\n",
       "      <td>Twitter for iPhone</td>\n",
       "      <td>17927</td>\n",
       "      <td>3600</td>\n",
       "      <td>0</td>\n",
       "    </tr>\n",
       "    <tr>\n",
       "      <th>3</th>\n",
       "      <td>Held extensive talks with HRH Mohammed Bin Sal...</td>\n",
       "      <td>140</td>\n",
       "      <td>1098240271265992704</td>\n",
       "      <td>2019-02-20 15:17:39</td>\n",
       "      <td>Twitter for iPhone</td>\n",
       "      <td>27289</td>\n",
       "      <td>5236</td>\n",
       "      <td>0</td>\n",
       "    </tr>\n",
       "    <tr>\n",
       "      <th>4</th>\n",
       "      <td>During our talks, President @moonriver365 and ...</td>\n",
       "      <td>140</td>\n",
       "      <td>1098196600701313024</td>\n",
       "      <td>2019-02-20 12:24:07</td>\n",
       "      <td>Twitter for iPhone</td>\n",
       "      <td>11441</td>\n",
       "      <td>3080</td>\n",
       "      <td>1</td>\n",
       "    </tr>\n",
       "    <tr>\n",
       "      <th>5</th>\n",
       "      <td>As fellow democracies, India and ROK have shar...</td>\n",
       "      <td>140</td>\n",
       "      <td>1098196597530394624</td>\n",
       "      <td>2019-02-20 12:24:07</td>\n",
       "      <td>Twitter for iPhone</td>\n",
       "      <td>11365</td>\n",
       "      <td>3010</td>\n",
       "      <td>0</td>\n",
       "    </tr>\n",
       "    <tr>\n",
       "      <th>6</th>\n",
       "      <td>This evening, I will be leaving for the Republ...</td>\n",
       "      <td>140</td>\n",
       "      <td>1098196593273159680</td>\n",
       "      <td>2019-02-20 12:24:05</td>\n",
       "      <td>Twitter for iPhone</td>\n",
       "      <td>21313</td>\n",
       "      <td>5154</td>\n",
       "      <td>0</td>\n",
       "    </tr>\n",
       "    <tr>\n",
       "      <th>7</th>\n",
       "      <td>Addressing the media after talks with HRH Moha...</td>\n",
       "      <td>120</td>\n",
       "      <td>1098134316360511488</td>\n",
       "      <td>2019-02-20 08:16:38</td>\n",
       "      <td>Periscope</td>\n",
       "      <td>17121</td>\n",
       "      <td>5666</td>\n",
       "      <td>0</td>\n",
       "    </tr>\n",
       "    <tr>\n",
       "      <th>8</th>\n",
       "      <td>हिन्दी साहित्य के शिखर पुरुष नामवर सिंह जी के ...</td>\n",
       "      <td>139</td>\n",
       "      <td>1098090090251710464</td>\n",
       "      <td>2019-02-20 05:20:53</td>\n",
       "      <td>Twitter Web Client</td>\n",
       "      <td>24652</td>\n",
       "      <td>5513</td>\n",
       "      <td>0</td>\n",
       "    </tr>\n",
       "    <tr>\n",
       "      <th>9</th>\n",
       "      <td>Best wishes on Mizoram Statehood Day. \\n\\nThe ...</td>\n",
       "      <td>140</td>\n",
       "      <td>1098071022857641986</td>\n",
       "      <td>2019-02-20 04:05:07</td>\n",
       "      <td>Twitter for iPhone</td>\n",
       "      <td>20772</td>\n",
       "      <td>5001</td>\n",
       "      <td>1</td>\n",
       "    </tr>\n",
       "  </tbody>\n",
       "</table>\n",
       "</div>"
      ],
      "text/plain": [
       "                                              Tweets  len  \\\n",
       "0  Addressing Indian and Korean businesspersons i...   85   \n",
       "1  Subjects relating to world peace, security, th...  126   \n",
       "2  HRH Mohammed Bin Salman and I discussed aspect...  140   \n",
       "3  Held extensive talks with HRH Mohammed Bin Sal...  140   \n",
       "4  During our talks, President @moonriver365 and ...  140   \n",
       "5  As fellow democracies, India and ROK have shar...  140   \n",
       "6  This evening, I will be leaving for the Republ...  140   \n",
       "7  Addressing the media after talks with HRH Moha...  120   \n",
       "8  हिन्दी साहित्य के शिखर पुरुष नामवर सिंह जी के ...  139   \n",
       "9  Best wishes on Mizoram Statehood Day. \\n\\nThe ...  140   \n",
       "\n",
       "                    ID                Date              Source  Likes   RTs  \\\n",
       "0  1098458672278102016 2019-02-21 05:45:30           Periscope   3689  1111   \n",
       "1  1098240352627113984 2019-02-20 15:17:59  Twitter for iPhone  13546  2934   \n",
       "2  1098240346457362432 2019-02-20 15:17:57  Twitter for iPhone  17927  3600   \n",
       "3  1098240271265992704 2019-02-20 15:17:39  Twitter for iPhone  27289  5236   \n",
       "4  1098196600701313024 2019-02-20 12:24:07  Twitter for iPhone  11441  3080   \n",
       "5  1098196597530394624 2019-02-20 12:24:07  Twitter for iPhone  11365  3010   \n",
       "6  1098196593273159680 2019-02-20 12:24:05  Twitter for iPhone  21313  5154   \n",
       "7  1098134316360511488 2019-02-20 08:16:38           Periscope  17121  5666   \n",
       "8  1098090090251710464 2019-02-20 05:20:53  Twitter Web Client  24652  5513   \n",
       "9  1098071022857641986 2019-02-20 04:05:07  Twitter for iPhone  20772  5001   \n",
       "\n",
       "   SA  \n",
       "0   0  \n",
       "1   0  \n",
       "2   0  \n",
       "3   0  \n",
       "4   1  \n",
       "5   0  \n",
       "6   0  \n",
       "7   0  \n",
       "8   0  \n",
       "9   1  "
      ]
     },
     "metadata": {},
     "output_type": "execute_result"
    }
   ],
   "source": [
    "#create a column with the result of the analysis:\n",
    "data['SA'] = np.array([ analize_sentiment(tweet) for tweet in data['Tweets'] ])\n",
    "\n",
    "#we displaqy the updated dataframe with the new column:\n",
    "display(data.head(10))"
   ]
  },
  {
   "cell_type": "code",
   "execution_count": 40,
   "metadata": {},
   "outputs": [],
   "source": [
    "#we construct lists with classified tweets:\n",
    "\n",
    "pos_tweets = [ tweet for index, tweet in enumerate(data['Tweets']) if data['SA'][index] > 0]\n",
    "neu_tweets = [ tweet for index, tweet in enumerate(data['Tweets']) if data['SA'][index] == 0]\n",
    "neg_tweets = [ tweet for index, tweet in enumerate(data['Tweets']) if data['SA'][index] < 0]"
   ]
  },
  {
   "cell_type": "code",
   "execution_count": 42,
   "metadata": {},
   "outputs": [
    {
     "name": "stdout",
     "output_type": "stream",
     "text": [
      "Percent of positive tweets: 39.5%\n",
      "Percent of neutral tweets: 53.0%\n",
      "Percent of negative tweets: 7.5%\n"
     ]
    }
   ],
   "source": [
    "print(\"Percent of positive tweets: {}%\".format(len(pos_tweets)*100/len(data['Tweets'])))\n",
    "print(\"Percent of neutral tweets: {}%\".format(len(neu_tweets)*100/len(data['Tweets'])))\n",
    "print(\"Percent of negative tweets: {}%\".format(len(neg_tweets)*100/len(data['Tweets'])))"
   ]
  },
  {
   "cell_type": "code",
   "execution_count": null,
   "metadata": {},
   "outputs": [],
   "source": []
  },
  {
   "cell_type": "code",
   "execution_count": null,
   "metadata": {},
   "outputs": [],
   "source": []
  },
  {
   "cell_type": "code",
   "execution_count": null,
   "metadata": {},
   "outputs": [],
   "source": []
  },
  {
   "cell_type": "code",
   "execution_count": null,
   "metadata": {},
   "outputs": [],
   "source": []
  },
  {
   "cell_type": "code",
   "execution_count": null,
   "metadata": {},
   "outputs": [],
   "source": []
  },
  {
   "cell_type": "code",
   "execution_count": null,
   "metadata": {},
   "outputs": [],
   "source": []
  },
  {
   "cell_type": "code",
   "execution_count": null,
   "metadata": {},
   "outputs": [],
   "source": []
  },
  {
   "cell_type": "code",
   "execution_count": null,
   "metadata": {},
   "outputs": [],
   "source": []
  }
 ],
 "metadata": {
  "kernelspec": {
   "display_name": "Python 3",
   "language": "python",
   "name": "python3"
  },
  "language_info": {
   "codemirror_mode": {
    "name": "ipython",
    "version": 3
   },
   "file_extension": ".py",
   "mimetype": "text/x-python",
   "name": "python",
   "nbconvert_exporter": "python",
   "pygments_lexer": "ipython3",
   "version": "3.7.1"
  }
 },
 "nbformat": 4,
 "nbformat_minor": 2
}
